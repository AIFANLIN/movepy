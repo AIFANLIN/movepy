{
 "cells": [
  {
   "cell_type": "code",
   "execution_count": 1,
   "metadata": {},
   "outputs": [],
   "source": [
    "import cv2\n",
    "import numpy as np\n",
    "import random"
   ]
  },
  {
   "cell_type": "code",
   "execution_count": 8,
   "metadata": {},
   "outputs": [],
   "source": [
    "class Imagetransfer:\n",
    "    def __init__(self,image):\n",
    "        self.image=image\n",
    "    def img_crop(self):\n",
    "        img_crop=self.image[0:100,0:200]\n",
    "        cv2.imshow('img_crop',img_crop)\n",
    "        cv2.waitKey(0)\n",
    "        \n",
    "    def random_light_color(self):\n",
    "        B, G, R = cv2.split(self.image)\n",
    "        BGR=[B,G,R]\n",
    "        b_rand = random.randint(-50, 50)\n",
    "        g_rand = random.randint(-50, 50)\n",
    "        r_rand = random.randint(-50, 50)\n",
    "        if b_rand == 0:\n",
    "            pass\n",
    "        elif b_rand > 0:\n",
    "            lim = 255 - b_rand\n",
    "            B[B > lim] = 255\n",
    "            B[B <= lim] = (b_rand + B[B <= lim]).astype(img.dtype)\n",
    "        elif b_rand < 0:\n",
    "            lim = 0 - b_rand\n",
    "            B[B < lim] = 0\n",
    "            B[B >= lim] = (b_rand + B[B >= lim]).astype(img.dtype)\n",
    "        if g_rand == 0:\n",
    "            pass\n",
    "        elif g_rand > 0:\n",
    "            lim = 255 - g_rand\n",
    "            G[G > lim] = 255\n",
    "            G[G <= lim] = (g_rand + G[G <= lim]).astype(img.dtype)\n",
    "        elif g_rand < 0:\n",
    "            lim = 0 - g_rand\n",
    "            G[G < lim] = 0\n",
    "            G[G >= lim] = (g_rand + G[G >= lim]).astype(img.dtype)\n",
    "        if g_rand == 0:\n",
    "            pass\n",
    "        elif g_rand > 0:\n",
    "            lim = 255 - g_rand\n",
    "            G[G > lim] = 255\n",
    "            G[G <= lim] = (g_rand + G[G <= lim]).astype(img.dtype)\n",
    "        elif g_rand < 0:\n",
    "            lim = 0 - g_rand\n",
    "            G[G < lim] = 0\n",
    "            G[G >= lim] = (g_rand + G[G >= lim]).astype(img.dtype)\n",
    "        img_merge=cv2.merge((B,G,R))\n",
    "        cv2.imshow('img_merge',img_merge)\n",
    "        cv2.waitKey(0)\n",
    "    def adjust_gamma(self,gamma=1.0):\n",
    "        invGamma= 1.0 /gamma\n",
    "        table = []\n",
    "        for i in range(256):\n",
    "            table.append((i/255.0)** invGamma * 255)\n",
    "        table= np.array(table).astype( \"uint8\")\n",
    "        img_brighter=cv2.LUT(self.image,table)\n",
    "        cv2.imshow('img_brighter',img_brighter)\n",
    "        cv2.waitKey(0)\n",
    "    def histogram(self):\n",
    "        img_yuv = cv2.cvtColor(self.image,cv2.COLOR_BGR2YUV)\n",
    "        img_yuv[:,:,0] = cv2.equalizeHist(img_yuv[:,:,0])\n",
    "        img_output = cv2.cvtColor(img_yuv,cv2.COLOR_YUV2BGR)\n",
    "        cv2.imshow('img_output',img_output)\n",
    "        cv2.waitKey(0)\n",
    "    def rotation(self):\n",
    "        M=cv2.getRotationMatrix2D((self.image.shape[1]/2,self.image.shape[0]/2),30,1)\n",
    "        img_rotate=cv2.warpAffine(self.image,M,(self.image.shape[1],self.image.shape[0]))\n",
    "        cv2.imshow('img_rotate',img_rotate)\n",
    "        cv2.waitKey(0)"
   ]
  },
  {
   "cell_type": "code",
   "execution_count": 9,
   "metadata": {},
   "outputs": [],
   "source": [
    "image=cv2.imread('/home/aifan/DL/htx.jpg')"
   ]
  },
  {
   "cell_type": "code",
   "execution_count": null,
   "metadata": {},
   "outputs": [],
   "source": [
    "Imagetransfer(image).rotation()"
   ]
  },
  {
   "cell_type": "code",
   "execution_count": null,
   "metadata": {},
   "outputs": [],
   "source": [
    "Imagetransfer(image).histogram()"
   ]
  },
  {
   "cell_type": "code",
   "execution_count": null,
   "metadata": {},
   "outputs": [],
   "source": [
    "Imagetransfer(image).adjust_gamma(0.2)"
   ]
  },
  {
   "cell_type": "code",
   "execution_count": null,
   "metadata": {},
   "outputs": [],
   "source": []
  }
 ],
 "metadata": {
  "kernelspec": {
   "display_name": "Python 3",
   "language": "python",
   "name": "python3"
  },
  "language_info": {
   "codemirror_mode": {
    "name": "ipython",
    "version": 3
   },
   "file_extension": ".py",
   "mimetype": "text/x-python",
   "name": "python",
   "nbconvert_exporter": "python",
   "pygments_lexer": "ipython3",
   "version": "3.6.8"
  }
 },
 "nbformat": 4,
 "nbformat_minor": 2
}
