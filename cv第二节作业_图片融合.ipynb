{
 "cells": [
  {
   "cell_type": "code",
   "execution_count": 2,
   "metadata": {},
   "outputs": [],
   "source": [
    "import cv2\n",
    "import numpy as np"
   ]
  },
  {
   "cell_type": "code",
   "execution_count": 4,
   "metadata": {},
   "outputs": [],
   "source": [
    "MIN_MATCH_COUNT = 10 #最小的匹配数\n",
    "img1 = cv2.imread('stich1.jpg')          # queryImage\n",
    "img2 = cv2.imread('stich2.jpg')          # trainImage\n",
    "\n",
    "def SIFT():\n",
    "    # Initiate SIFT detector\n",
    "    sift = cv2.xfeatures2d.SIFT_create()\n",
    "    # find the keypoints and descriptors with SIFT\n",
    "    kp1, des1 = sift.detectAndCompute(img2,None) #kps为特征点，des为特征向量\n",
    "    kp2, des2 = sift.detectAndCompute(img1,None)\n",
    "    # BFMatcher with default params\n",
    "    bf = cv2.BFMatcher() #特征匹配器\n",
    "    matches = bf.knnMatch(des1,des2, k=2) #KNN算法进行特征匹配,返回每个点的k个匹配点\n",
    "    #print(type(matches))\n",
    "    # Apply ratio test\n",
    "    good = []\n",
    "    for m,n in matches:\n",
    "        if m.distance < 0.75*n.distance:\n",
    "\n",
    "          good.append(m)\n",
    "    # cv2.drawMatchesKnn expects list of lists as matches\n",
    "    good_2 = np.expand_dims(good, 1) #扩充维数\n",
    "    matching = cv2.drawMatchesKnn(img1,kp1,img2,kp2,None,None, flags=2)\n",
    "\n",
    "    if len(good)>MIN_MATCH_COUNT:\n",
    "        # 获取关键点的坐标\n",
    "        src_pts = np.float32([ kp1[m.queryIdx].pt for m in good ]).reshape(-1,1,2)\n",
    "        dst_pts = np.float32([ kp2[m.trainIdx].pt for m in good ]).reshape(-1,1,2)\n",
    "\n",
    "        H, mask = cv2.findHomography(src_pts, dst_pts, cv2.RANSAC,5.0)\n",
    "        wrap = cv2.warpPerspective(img2, H, (img2.shape[1]+img2.shape[1] , img2.shape[0]+img2.shape[0]))\n",
    "        wrap[0:img2.shape[0], 0:img2.shape[1]] = img1\n",
    "\n",
    "        rows, cols = np.where(wrap[:,:,0] !=0)\n",
    "        min_row, max_row = min(rows), max(rows) +1\n",
    "        min_col, max_col = min(cols), max(cols) +1\n",
    "        result = wrap[min_row:max_row,min_col:max_col,:]#去除黑色无用部分\n",
    "\n",
    "        return matching, result\n",
    "\n",
    "if __name__ == '__main__':\n",
    "    matching, result = SIFT()\n",
    "    cv2.imshow('img3.jpg',matching)\n",
    "    cv2.imshow('img1.jpg',img1)\n",
    "    cv2.imshow('img2.jpg',img2)\n",
    "    cv2.waitKey(0)\n",
    "    cv2.destroyAllWindows() \n",
    "    cv2.waitKey(1)\n",
    "    cv2.waitKey(1)\n",
    "    cv2.waitKey(1)\n",
    "    cv2.waitKey(1)\n"
   ]
  },
  {
   "cell_type": "code",
   "execution_count": null,
   "metadata": {},
   "outputs": [],
   "source": []
  }
 ],
 "metadata": {
  "kernelspec": {
   "display_name": "Python 3",
   "language": "python",
   "name": "python3"
  },
  "language_info": {
   "codemirror_mode": {
    "name": "ipython",
    "version": 3
   },
   "file_extension": ".py",
   "mimetype": "text/x-python",
   "name": "python",
   "nbconvert_exporter": "python",
   "pygments_lexer": "ipython3",
   "version": "3.6.8"
  }
 },
 "nbformat": 4,
 "nbformat_minor": 2
}
