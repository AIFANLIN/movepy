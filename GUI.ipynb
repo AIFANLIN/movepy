{
 "cells": [
  {
   "cell_type": "code",
   "execution_count": 2,
   "metadata": {
    "collapsed": false
   },
   "outputs": [],
   "source": [
    "from tkinter import*\n",
    "from tkinter.ttk import *\n",
    "\n",
    "root = Tk()\n",
    "root.title('光子晶体自动化实验平台')\n",
    "root.iconbitmap('D:\\pythonfile\\熊猫.ico')\n",
    "canvas=Canvas(root,width=1000,height=1800,bg='red')\n",
    "#root.geometry('600x600+100+100')\n",
    "#frame=Frame(height=700,width=1300,background='blue').pack(expand=YES,fill=BOTH)\n",
    "style = Style()\n",
    "style.configure(root.geometry,  background=\"blue\",width=700, height=700,)\n",
    "Label(root, text='光子晶体自动化实验平台', font=('华文行楷', 20)).pack(side=TOP, fill=NONE, expand=NO) \n",
    "photo1=PhotoImage(file='D:\\pythonfile\\注射泵.png')\n",
    "photo2=PhotoImage(file='D:\\pythonfile\\机械臂.png')\n",
    "#photo3=PhotoImage(file='D:\\pythonfile\\背景png.png')\n",
    "imgLabel1=Label(root,image=photo1)\n",
    "imgLabel2=Label(root,image=photo2)\n",
    "#imgLabel3=Label(root,justify=LEFT,image=photo3,compound=CENTER)\n",
    "imgLabel1.pack(side=LEFT,anchor=N,padx=40,pady=20)\n",
    "imgLabel2.pack(side=RIGHT,anchor=N,padx=40,pady=20)\n",
    "sv1=StringVar()\n",
    "sv1.set(\"请输入注射泵吸取目标溶液的速率\")\n",
    "sv2=StringVar()\n",
    "sv2.set(\"请输入注射泵吸取目标溶液的体积\")\n",
    "sv3=StringVar()\n",
    "sv3.set(\"请输入注射泵吐目标溶液的的速率\")\n",
    "sv4=StringVar()\n",
    "sv4.set(\"请输入注射泵吐目标溶液的的体积\")\n",
    "sv5=StringVar()\n",
    "sv5.set(\"请输入注射泵吸取清洗液的速率\")\n",
    "sv6=StringVar()\n",
    "sv6.set(\"请输入注射泵吸取清洗液的体积\")\n",
    "sv7=StringVar()\n",
    "sv7.set(\"请输入注射泵吐清洗液的的速率\")\n",
    "sv8=StringVar()\n",
    "sv8.set(\"请输入注射泵吐清洗液的体积\")\n",
    "sv9=StringVar()\n",
    "sv9.set(\"请输入清洗槽到玻璃片的距离\")\n",
    "sv10=StringVar()\n",
    "sv10.set(\"请输入目标液体槽到玻璃片的距离\")\n",
    "sv11=StringVar()\n",
    "sv11.set(\"请输入目标液体槽到清洗槽的距离\")\n",
    "#imgLabel3.pack(fill=BOTH)\n",
    "entry1 = Entry(root, textvariable=sv1,width=26).place(x=45,y=245)\n",
    "entry2 = Entry(root, textvariable=sv2,width=26).place(x=45,y=280)\n",
    "entry3 = Entry(root, textvariable=sv3,width=26).place(x=45,y=315)\n",
    "entry4 = Entry(root, textvariable=sv4,width=26).place(x=45,y=350)\n",
    "entry5 = Entry(root, textvariable=sv5,width=26).place(x=45,y=385)\n",
    "entry6 = Entry(root, textvariable=sv6,width=26).place(x=45,y=420)\n",
    "entry7 = Entry(root, textvariable=sv7,width=26).place(x=45,y=455)\n",
    "entry8 = Entry(root, textvariable=sv8,width=26).place(x=45,y=490)\n",
    "entry9 = Entry(root, textvariable=sv9,width=26).place(x=300,y=245)\n",
    "entry10 = Entry(root, textvariable=sv10,width=26).place(x=300,y=280)\n",
    "entry11 = Entry(root, textvariable=sv11,width=26).place(x=300,y=315)\n",
    "def test():\n",
    "    return True\n",
    "buttonsp = Button(root, text='开始',command=test).place(x=200,y=600)\n",
    "#buttonsp.pack()\n",
    "#entry1.var=sv1\n",
    "#entry1.var=sv1\n",
    "#entry1.pack( side=BOTTOM,anchor=W, fill=NONE, expand=YES,padx=50, pady=20)\n",
    "#3\n",
    "#选框\n",
    "root.mainloop()   "
   ]
  },
  {
   "cell_type": "code",
   "execution_count": null,
   "metadata": {
    "collapsed": true
   },
   "outputs": [],
   "source": []
  },
  {
   "cell_type": "code",
   "execution_count": null,
   "metadata": {
    "collapsed": true
   },
   "outputs": [],
   "source": []
  }
 ],
 "metadata": {
  "kernelspec": {
   "display_name": "Python [default]",
   "language": "python",
   "name": "python3"
  },
  "language_info": {
   "codemirror_mode": {
    "name": "ipython",
    "version": 3
   },
   "file_extension": ".py",
   "mimetype": "text/x-python",
   "name": "python",
   "nbconvert_exporter": "python",
   "pygments_lexer": "ipython3",
   "version": "3.5.2"
  }
 },
 "nbformat": 4,
 "nbformat_minor": 0
}
