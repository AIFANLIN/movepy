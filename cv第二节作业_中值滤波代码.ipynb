{
 "cells": [
  {
   "cell_type": "code",
   "execution_count": 24,
   "metadata": {},
   "outputs": [],
   "source": [
    "import numpy as np\n",
    "import copy\n",
    "import cv2\n",
    "from matplotlib import pyplot as plt\n",
    "%matplotlib inline"
   ]
  },
  {
   "cell_type": "code",
   "execution_count": 31,
   "metadata": {},
   "outputs": [],
   "source": [
    "#one_extend函数实现2D图像的近值扩充,两边只分别扩充一个单元,要对外扩充多个单元，只需反复使用这个函数\n",
    "def extend(img,padding_way):\n",
    "    m,n=img.shape\n",
    "    img_one_extend=np.zeros((m+2,n+2))\n",
    "    img_one_extend[1:m+1,1:n+1]=img\n",
    "    if padding_way==\"ZERO\":\n",
    "        return img_one_extend\n",
    "    elif padding_way==\"REPLICA\":\n",
    "        img_one_extend[0][1:1+n]=img[0]\n",
    "        img_one_extend[m+1][1:1+n]=img[m-1]\n",
    "        img_one_extend[:,0]=img_one_extend[:,1]\n",
    "        img_one_extend[:,n+1]=img_one_extend[:,n]\n",
    "        img_one_extend=img_one_extend.astype('int')\n",
    "        return img_one_extend\n",
    "    else:\n",
    "        print(\"Please input right padding_way\")\n",
    "    \n",
    "#img_kernel函数实现一个2D图像,跟一个kernel*kernle的卷积核卷积的结果\n",
    "def img_kernel(srcimg,kernel,padding_way):\n",
    "    extend_index=int(kernel/2)\n",
    "    img=copy.deepcopy(srcimg)\n",
    "    for k in range(extend_index):\n",
    "        img=extend(srcimg,padding_way)\n",
    "    m,n=img.shape\n",
    "    for i in range(int(kernel/2),m-int(kernel/2)):\n",
    "        for j in range(int(kernel/2),n-int(kernel/2)):\n",
    "            a=[]\n",
    "            #print(img[i,j])\n",
    "            a.append(img[i,j])\n",
    "            a.append(img[i+1,j])\n",
    "            a.append(img[i-1,j])\n",
    "            a.append(img[i,j+1])\n",
    "            a.append(img[i,j-1])\n",
    "            a.append(img[i-1,j-1])\n",
    "            a.append(img[i+1,j+1])\n",
    "            a.append(img[i-1,j+1])\n",
    "            a.append(img[i+1,j-1])\n",
    "            a.sort()\n",
    "            img[i,j]=a[int(len(a)/2)]    \n",
    "    result=img[int(kernel/2):m-int(kernel/2),int(kernel/2):n-int(kernel/2)]                     \n",
    "    return  result.astype(\"uint8\")\n",
    "         \n",
    "    "
   ]
  },
  {
   "cell_type": "code",
   "execution_count": 34,
   "metadata": {},
   "outputs": [],
   "source": [
    "src=cv2.imread(\"htx.jpg\",0)\n",
    "a=img_kernel(src,5,\"REPLICA\")\n",
    "cv2.imshow(\"result\",a)\n",
    "k=cv2.waitKey()\n",
    "if k==27:\n",
    "    cv2.destroyAllWindows()"
   ]
  }
 ],
 "metadata": {
  "kernelspec": {
   "display_name": "Python 3",
   "language": "python",
   "name": "python3"
  },
  "language_info": {
   "codemirror_mode": {
    "name": "ipython",
    "version": 3
   },
   "file_extension": ".py",
   "mimetype": "text/x-python",
   "name": "python",
   "nbconvert_exporter": "python",
   "pygments_lexer": "ipython3",
   "version": "3.6.8"
  }
 },
 "nbformat": 4,
 "nbformat_minor": 2
}
